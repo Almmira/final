{
  "nbformat": 4,
  "nbformat_minor": 0,
  "metadata": {
    "colab": {
      "provenance": []
    },
    "kernelspec": {
      "name": "python3",
      "display_name": "Python 3"
    },
    "language_info": {
      "name": "python"
    }
  },
  "cells": [
    {
      "cell_type": "markdown",
      "source": [
        "1. Importing Libraries"
      ],
      "metadata": {
        "id": "9u744r90k8IY"
      }
    },
    {
      "cell_type": "code",
      "execution_count": 16,
      "metadata": {
        "colab": {
          "base_uri": "https://localhost:8080/"
        },
        "id": "ArU24H0aEWtM",
        "outputId": "0db7ca92-c741-4c8f-bb49-002a333f999f"
      },
      "outputs": [
        {
          "output_type": "stream",
          "name": "stdout",
          "text": [
            "done\n"
          ]
        }
      ],
      "source": [
        "import pandas as pd\n",
        "import matplotlib.pyplot as plt\n",
        "import tensorflow as tf\n",
        "import numpy as np\n",
        "import python_utils\n",
        "\n",
        "from sklearn.model_selection import train_test_split\n",
        "from tensorflow.keras.models import Sequential\n",
        "from tensorflow.keras.layers import Dense, Dropout\n",
        "from tensorflow.keras.callbacks import EarlyStopping, LambdaCallback \n",
        "\n",
        "print('done')"
      ]
    },
    {
      "cell_type": "markdown",
      "source": [
        "2.  Importing the Dataset \"krisha\""
      ],
      "metadata": {
        "id": "1LuYviLJlMf8"
      }
    },
    {
      "cell_type": "code",
      "source": [
        "df = pd.read_csv('newnew.csv')\n",
        "df.head()"
      ],
      "metadata": {
        "colab": {
          "base_uri": "https://localhost:8080/",
          "height": 206
        },
        "id": "KXKw1peGEXHS",
        "outputId": "91a0adbb-4960-49bb-8b36-f06d4da8612b"
      },
      "execution_count": 17,
      "outputs": [
        {
          "output_type": "execute_result",
          "data": {
            "text/plain": [
              "    Год         id     price  square  rooms        lat        lon\n",
              "0  2016  674641098  40000000    99.0      3  51.134068  71.367502\n",
              "1  2021  681148481  53999999    90.0      3  51.101005  71.401826\n",
              "2  2021  681724680  31000000    62.0      2  51.172030  71.394117\n",
              "3  2005  681619392  17500000    36.2      1  51.153648  71.500749\n",
              "4  2020   58174444  75000000    86.7      3  51.102779  71.404300"
            ],
            "text/html": [
              "\n",
              "  <div id=\"df-30fb1fda-911c-490b-b75b-5d5e2e5614ae\">\n",
              "    <div class=\"colab-df-container\">\n",
              "      <div>\n",
              "<style scoped>\n",
              "    .dataframe tbody tr th:only-of-type {\n",
              "        vertical-align: middle;\n",
              "    }\n",
              "\n",
              "    .dataframe tbody tr th {\n",
              "        vertical-align: top;\n",
              "    }\n",
              "\n",
              "    .dataframe thead th {\n",
              "        text-align: right;\n",
              "    }\n",
              "</style>\n",
              "<table border=\"1\" class=\"dataframe\">\n",
              "  <thead>\n",
              "    <tr style=\"text-align: right;\">\n",
              "      <th></th>\n",
              "      <th>Год</th>\n",
              "      <th>id</th>\n",
              "      <th>price</th>\n",
              "      <th>square</th>\n",
              "      <th>rooms</th>\n",
              "      <th>lat</th>\n",
              "      <th>lon</th>\n",
              "    </tr>\n",
              "  </thead>\n",
              "  <tbody>\n",
              "    <tr>\n",
              "      <th>0</th>\n",
              "      <td>2016</td>\n",
              "      <td>674641098</td>\n",
              "      <td>40000000</td>\n",
              "      <td>99.0</td>\n",
              "      <td>3</td>\n",
              "      <td>51.134068</td>\n",
              "      <td>71.367502</td>\n",
              "    </tr>\n",
              "    <tr>\n",
              "      <th>1</th>\n",
              "      <td>2021</td>\n",
              "      <td>681148481</td>\n",
              "      <td>53999999</td>\n",
              "      <td>90.0</td>\n",
              "      <td>3</td>\n",
              "      <td>51.101005</td>\n",
              "      <td>71.401826</td>\n",
              "    </tr>\n",
              "    <tr>\n",
              "      <th>2</th>\n",
              "      <td>2021</td>\n",
              "      <td>681724680</td>\n",
              "      <td>31000000</td>\n",
              "      <td>62.0</td>\n",
              "      <td>2</td>\n",
              "      <td>51.172030</td>\n",
              "      <td>71.394117</td>\n",
              "    </tr>\n",
              "    <tr>\n",
              "      <th>3</th>\n",
              "      <td>2005</td>\n",
              "      <td>681619392</td>\n",
              "      <td>17500000</td>\n",
              "      <td>36.2</td>\n",
              "      <td>1</td>\n",
              "      <td>51.153648</td>\n",
              "      <td>71.500749</td>\n",
              "    </tr>\n",
              "    <tr>\n",
              "      <th>4</th>\n",
              "      <td>2020</td>\n",
              "      <td>58174444</td>\n",
              "      <td>75000000</td>\n",
              "      <td>86.7</td>\n",
              "      <td>3</td>\n",
              "      <td>51.102779</td>\n",
              "      <td>71.404300</td>\n",
              "    </tr>\n",
              "  </tbody>\n",
              "</table>\n",
              "</div>\n",
              "      <button class=\"colab-df-convert\" onclick=\"convertToInteractive('df-30fb1fda-911c-490b-b75b-5d5e2e5614ae')\"\n",
              "              title=\"Convert this dataframe to an interactive table.\"\n",
              "              style=\"display:none;\">\n",
              "        \n",
              "  <svg xmlns=\"http://www.w3.org/2000/svg\" height=\"24px\"viewBox=\"0 0 24 24\"\n",
              "       width=\"24px\">\n",
              "    <path d=\"M0 0h24v24H0V0z\" fill=\"none\"/>\n",
              "    <path d=\"M18.56 5.44l.94 2.06.94-2.06 2.06-.94-2.06-.94-.94-2.06-.94 2.06-2.06.94zm-11 1L8.5 8.5l.94-2.06 2.06-.94-2.06-.94L8.5 2.5l-.94 2.06-2.06.94zm10 10l.94 2.06.94-2.06 2.06-.94-2.06-.94-.94-2.06-.94 2.06-2.06.94z\"/><path d=\"M17.41 7.96l-1.37-1.37c-.4-.4-.92-.59-1.43-.59-.52 0-1.04.2-1.43.59L10.3 9.45l-7.72 7.72c-.78.78-.78 2.05 0 2.83L4 21.41c.39.39.9.59 1.41.59.51 0 1.02-.2 1.41-.59l7.78-7.78 2.81-2.81c.8-.78.8-2.07 0-2.86zM5.41 20L4 18.59l7.72-7.72 1.47 1.35L5.41 20z\"/>\n",
              "  </svg>\n",
              "      </button>\n",
              "      \n",
              "  <style>\n",
              "    .colab-df-container {\n",
              "      display:flex;\n",
              "      flex-wrap:wrap;\n",
              "      gap: 12px;\n",
              "    }\n",
              "\n",
              "    .colab-df-convert {\n",
              "      background-color: #E8F0FE;\n",
              "      border: none;\n",
              "      border-radius: 50%;\n",
              "      cursor: pointer;\n",
              "      display: none;\n",
              "      fill: #1967D2;\n",
              "      height: 32px;\n",
              "      padding: 0 0 0 0;\n",
              "      width: 32px;\n",
              "    }\n",
              "\n",
              "    .colab-df-convert:hover {\n",
              "      background-color: #E2EBFA;\n",
              "      box-shadow: 0px 1px 2px rgba(60, 64, 67, 0.3), 0px 1px 3px 1px rgba(60, 64, 67, 0.15);\n",
              "      fill: #174EA6;\n",
              "    }\n",
              "\n",
              "    [theme=dark] .colab-df-convert {\n",
              "      background-color: #3B4455;\n",
              "      fill: #D2E3FC;\n",
              "    }\n",
              "\n",
              "    [theme=dark] .colab-df-convert:hover {\n",
              "      background-color: #434B5C;\n",
              "      box-shadow: 0px 1px 3px 1px rgba(0, 0, 0, 0.15);\n",
              "      filter: drop-shadow(0px 1px 2px rgba(0, 0, 0, 0.3));\n",
              "      fill: #FFFFFF;\n",
              "    }\n",
              "  </style>\n",
              "\n",
              "      <script>\n",
              "        const buttonEl =\n",
              "          document.querySelector('#df-30fb1fda-911c-490b-b75b-5d5e2e5614ae button.colab-df-convert');\n",
              "        buttonEl.style.display =\n",
              "          google.colab.kernel.accessAllowed ? 'block' : 'none';\n",
              "\n",
              "        async function convertToInteractive(key) {\n",
              "          const element = document.querySelector('#df-30fb1fda-911c-490b-b75b-5d5e2e5614ae');\n",
              "          const dataTable =\n",
              "            await google.colab.kernel.invokeFunction('convertToInteractive',\n",
              "                                                     [key], {});\n",
              "          if (!dataTable) return;\n",
              "\n",
              "          const docLinkHtml = 'Like what you see? Visit the ' +\n",
              "            '<a target=\"_blank\" href=https://colab.research.google.com/notebooks/data_table.ipynb>data table notebook</a>'\n",
              "            + ' to learn more about interactive tables.';\n",
              "          element.innerHTML = '';\n",
              "          dataTable['output_type'] = 'display_data';\n",
              "          await google.colab.output.renderOutput(dataTable, element);\n",
              "          const docLink = document.createElement('div');\n",
              "          docLink.innerHTML = docLinkHtml;\n",
              "          element.appendChild(docLink);\n",
              "        }\n",
              "      </script>\n",
              "    </div>\n",
              "  </div>\n",
              "  "
            ]
          },
          "metadata": {},
          "execution_count": 17
        }
      ]
    },
    {
      "cell_type": "code",
      "source": [
        "df.describe()"
      ],
      "metadata": {
        "colab": {
          "base_uri": "https://localhost:8080/",
          "height": 300
        },
        "id": "uoRA6IapEay_",
        "outputId": "cdd09d08-5e10-4c33-c818-4cc6783f8683"
      },
      "execution_count": 18,
      "outputs": [
        {
          "output_type": "execute_result",
          "data": {
            "text/plain": [
              "               Год            id         price       square        rooms  \\\n",
              "count  2187.000000  2.187000e+03  2.187000e+03  2187.000000  2187.000000   \n",
              "mean   2013.202561  6.764468e+08  3.868365e+07    70.205688     2.121628   \n",
              "std      11.659222  4.685230e+07  4.599485e+07    46.516636     1.061177   \n",
              "min    1958.000000  1.363287e+07  5.700000e+06    13.000000     1.000000   \n",
              "25%    2010.000000  6.793429e+08  2.000000e+07    41.565000     1.000000   \n",
              "50%    2017.000000  6.811480e+08  2.700000e+07    58.100000     2.000000   \n",
              "75%    2021.000000  6.817389e+08  4.000000e+07    81.000000     3.000000   \n",
              "max    2022.000000  6.819111e+08  7.300000e+08   700.000000    11.000000   \n",
              "\n",
              "               lat          lon  \n",
              "count  2187.000000  2187.000000  \n",
              "mean     51.128470    71.431450  \n",
              "std       0.239179     0.144116  \n",
              "min      43.238077    68.211424  \n",
              "25%      51.116350    71.395531  \n",
              "50%      51.133333    71.426216  \n",
              "75%      51.158096    71.465958  \n",
              "max      51.207335    76.898010  "
            ],
            "text/html": [
              "\n",
              "  <div id=\"df-87dde8be-dc27-46a6-96ea-29ae234e799c\">\n",
              "    <div class=\"colab-df-container\">\n",
              "      <div>\n",
              "<style scoped>\n",
              "    .dataframe tbody tr th:only-of-type {\n",
              "        vertical-align: middle;\n",
              "    }\n",
              "\n",
              "    .dataframe tbody tr th {\n",
              "        vertical-align: top;\n",
              "    }\n",
              "\n",
              "    .dataframe thead th {\n",
              "        text-align: right;\n",
              "    }\n",
              "</style>\n",
              "<table border=\"1\" class=\"dataframe\">\n",
              "  <thead>\n",
              "    <tr style=\"text-align: right;\">\n",
              "      <th></th>\n",
              "      <th>Год</th>\n",
              "      <th>id</th>\n",
              "      <th>price</th>\n",
              "      <th>square</th>\n",
              "      <th>rooms</th>\n",
              "      <th>lat</th>\n",
              "      <th>lon</th>\n",
              "    </tr>\n",
              "  </thead>\n",
              "  <tbody>\n",
              "    <tr>\n",
              "      <th>count</th>\n",
              "      <td>2187.000000</td>\n",
              "      <td>2.187000e+03</td>\n",
              "      <td>2.187000e+03</td>\n",
              "      <td>2187.000000</td>\n",
              "      <td>2187.000000</td>\n",
              "      <td>2187.000000</td>\n",
              "      <td>2187.000000</td>\n",
              "    </tr>\n",
              "    <tr>\n",
              "      <th>mean</th>\n",
              "      <td>2013.202561</td>\n",
              "      <td>6.764468e+08</td>\n",
              "      <td>3.868365e+07</td>\n",
              "      <td>70.205688</td>\n",
              "      <td>2.121628</td>\n",
              "      <td>51.128470</td>\n",
              "      <td>71.431450</td>\n",
              "    </tr>\n",
              "    <tr>\n",
              "      <th>std</th>\n",
              "      <td>11.659222</td>\n",
              "      <td>4.685230e+07</td>\n",
              "      <td>4.599485e+07</td>\n",
              "      <td>46.516636</td>\n",
              "      <td>1.061177</td>\n",
              "      <td>0.239179</td>\n",
              "      <td>0.144116</td>\n",
              "    </tr>\n",
              "    <tr>\n",
              "      <th>min</th>\n",
              "      <td>1958.000000</td>\n",
              "      <td>1.363287e+07</td>\n",
              "      <td>5.700000e+06</td>\n",
              "      <td>13.000000</td>\n",
              "      <td>1.000000</td>\n",
              "      <td>43.238077</td>\n",
              "      <td>68.211424</td>\n",
              "    </tr>\n",
              "    <tr>\n",
              "      <th>25%</th>\n",
              "      <td>2010.000000</td>\n",
              "      <td>6.793429e+08</td>\n",
              "      <td>2.000000e+07</td>\n",
              "      <td>41.565000</td>\n",
              "      <td>1.000000</td>\n",
              "      <td>51.116350</td>\n",
              "      <td>71.395531</td>\n",
              "    </tr>\n",
              "    <tr>\n",
              "      <th>50%</th>\n",
              "      <td>2017.000000</td>\n",
              "      <td>6.811480e+08</td>\n",
              "      <td>2.700000e+07</td>\n",
              "      <td>58.100000</td>\n",
              "      <td>2.000000</td>\n",
              "      <td>51.133333</td>\n",
              "      <td>71.426216</td>\n",
              "    </tr>\n",
              "    <tr>\n",
              "      <th>75%</th>\n",
              "      <td>2021.000000</td>\n",
              "      <td>6.817389e+08</td>\n",
              "      <td>4.000000e+07</td>\n",
              "      <td>81.000000</td>\n",
              "      <td>3.000000</td>\n",
              "      <td>51.158096</td>\n",
              "      <td>71.465958</td>\n",
              "    </tr>\n",
              "    <tr>\n",
              "      <th>max</th>\n",
              "      <td>2022.000000</td>\n",
              "      <td>6.819111e+08</td>\n",
              "      <td>7.300000e+08</td>\n",
              "      <td>700.000000</td>\n",
              "      <td>11.000000</td>\n",
              "      <td>51.207335</td>\n",
              "      <td>76.898010</td>\n",
              "    </tr>\n",
              "  </tbody>\n",
              "</table>\n",
              "</div>\n",
              "      <button class=\"colab-df-convert\" onclick=\"convertToInteractive('df-87dde8be-dc27-46a6-96ea-29ae234e799c')\"\n",
              "              title=\"Convert this dataframe to an interactive table.\"\n",
              "              style=\"display:none;\">\n",
              "        \n",
              "  <svg xmlns=\"http://www.w3.org/2000/svg\" height=\"24px\"viewBox=\"0 0 24 24\"\n",
              "       width=\"24px\">\n",
              "    <path d=\"M0 0h24v24H0V0z\" fill=\"none\"/>\n",
              "    <path d=\"M18.56 5.44l.94 2.06.94-2.06 2.06-.94-2.06-.94-.94-2.06-.94 2.06-2.06.94zm-11 1L8.5 8.5l.94-2.06 2.06-.94-2.06-.94L8.5 2.5l-.94 2.06-2.06.94zm10 10l.94 2.06.94-2.06 2.06-.94-2.06-.94-.94-2.06-.94 2.06-2.06.94z\"/><path d=\"M17.41 7.96l-1.37-1.37c-.4-.4-.92-.59-1.43-.59-.52 0-1.04.2-1.43.59L10.3 9.45l-7.72 7.72c-.78.78-.78 2.05 0 2.83L4 21.41c.39.39.9.59 1.41.59.51 0 1.02-.2 1.41-.59l7.78-7.78 2.81-2.81c.8-.78.8-2.07 0-2.86zM5.41 20L4 18.59l7.72-7.72 1.47 1.35L5.41 20z\"/>\n",
              "  </svg>\n",
              "      </button>\n",
              "      \n",
              "  <style>\n",
              "    .colab-df-container {\n",
              "      display:flex;\n",
              "      flex-wrap:wrap;\n",
              "      gap: 12px;\n",
              "    }\n",
              "\n",
              "    .colab-df-convert {\n",
              "      background-color: #E8F0FE;\n",
              "      border: none;\n",
              "      border-radius: 50%;\n",
              "      cursor: pointer;\n",
              "      display: none;\n",
              "      fill: #1967D2;\n",
              "      height: 32px;\n",
              "      padding: 0 0 0 0;\n",
              "      width: 32px;\n",
              "    }\n",
              "\n",
              "    .colab-df-convert:hover {\n",
              "      background-color: #E2EBFA;\n",
              "      box-shadow: 0px 1px 2px rgba(60, 64, 67, 0.3), 0px 1px 3px 1px rgba(60, 64, 67, 0.15);\n",
              "      fill: #174EA6;\n",
              "    }\n",
              "\n",
              "    [theme=dark] .colab-df-convert {\n",
              "      background-color: #3B4455;\n",
              "      fill: #D2E3FC;\n",
              "    }\n",
              "\n",
              "    [theme=dark] .colab-df-convert:hover {\n",
              "      background-color: #434B5C;\n",
              "      box-shadow: 0px 1px 3px 1px rgba(0, 0, 0, 0.15);\n",
              "      filter: drop-shadow(0px 1px 2px rgba(0, 0, 0, 0.3));\n",
              "      fill: #FFFFFF;\n",
              "    }\n",
              "  </style>\n",
              "\n",
              "      <script>\n",
              "        const buttonEl =\n",
              "          document.querySelector('#df-87dde8be-dc27-46a6-96ea-29ae234e799c button.colab-df-convert');\n",
              "        buttonEl.style.display =\n",
              "          google.colab.kernel.accessAllowed ? 'block' : 'none';\n",
              "\n",
              "        async function convertToInteractive(key) {\n",
              "          const element = document.querySelector('#df-87dde8be-dc27-46a6-96ea-29ae234e799c');\n",
              "          const dataTable =\n",
              "            await google.colab.kernel.invokeFunction('convertToInteractive',\n",
              "                                                     [key], {});\n",
              "          if (!dataTable) return;\n",
              "\n",
              "          const docLinkHtml = 'Like what you see? Visit the ' +\n",
              "            '<a target=\"_blank\" href=https://colab.research.google.com/notebooks/data_table.ipynb>data table notebook</a>'\n",
              "            + ' to learn more about interactive tables.';\n",
              "          element.innerHTML = '';\n",
              "          dataTable['output_type'] = 'display_data';\n",
              "          await google.colab.output.renderOutput(dataTable, element);\n",
              "          const docLink = document.createElement('div');\n",
              "          docLink.innerHTML = docLinkHtml;\n",
              "          element.appendChild(docLink);\n",
              "        }\n",
              "      </script>\n",
              "    </div>\n",
              "  </div>\n",
              "  "
            ]
          },
          "metadata": {},
          "execution_count": 18
        }
      ]
    },
    {
      "cell_type": "code",
      "source": [
        "df.isna().sum()"
      ],
      "metadata": {
        "colab": {
          "base_uri": "https://localhost:8080/"
        },
        "id": "EWdi2DswEcIh",
        "outputId": "327fc2a9-88e1-486d-d764-f7b1e18b6407"
      },
      "execution_count": 19,
      "outputs": [
        {
          "output_type": "execute_result",
          "data": {
            "text/plain": [
              "Год       0\n",
              "id        0\n",
              "price     0\n",
              "square    0\n",
              "rooms     0\n",
              "lat       0\n",
              "lon       0\n",
              "dtype: int64"
            ]
          },
          "metadata": {},
          "execution_count": 19
        }
      ]
    },
    {
      "cell_type": "markdown",
      "source": [
        "3. Data Normalization\n"
      ],
      "metadata": {
        "id": "_irvNgeVld-5"
      }
    },
    {
      "cell_type": "code",
      "source": [
        "df = df.iloc[:, 1:]\n",
        "df_norm = (df - df.mean())/df.std()\n",
        "df_norm.head()"
      ],
      "metadata": {
        "colab": {
          "base_uri": "https://localhost:8080/",
          "height": 206
        },
        "id": "YvtJIVrrEd3T",
        "outputId": "7ec5e7ed-3dca-451a-e494-7706763689b2"
      },
      "execution_count": 20,
      "outputs": [
        {
          "output_type": "execute_result",
          "data": {
            "text/plain": [
              "          id     price    square     rooms       lat       lon\n",
              "0  -0.038540  0.028620  0.619011  0.827734  0.023406 -0.443726\n",
              "1   0.100351  0.333001  0.425532  0.827734 -0.114831 -0.205557\n",
              "2   0.112650 -0.167055 -0.176403 -0.114616  0.182124 -0.259052\n",
              "3   0.110402 -0.460566 -0.731044 -1.056966  0.105270  0.480853\n",
              "4 -13.196199  0.789574  0.354590  0.827734 -0.107412 -0.188391"
            ],
            "text/html": [
              "\n",
              "  <div id=\"df-86bbd78f-1b9b-48f5-b3c2-beab383cff39\">\n",
              "    <div class=\"colab-df-container\">\n",
              "      <div>\n",
              "<style scoped>\n",
              "    .dataframe tbody tr th:only-of-type {\n",
              "        vertical-align: middle;\n",
              "    }\n",
              "\n",
              "    .dataframe tbody tr th {\n",
              "        vertical-align: top;\n",
              "    }\n",
              "\n",
              "    .dataframe thead th {\n",
              "        text-align: right;\n",
              "    }\n",
              "</style>\n",
              "<table border=\"1\" class=\"dataframe\">\n",
              "  <thead>\n",
              "    <tr style=\"text-align: right;\">\n",
              "      <th></th>\n",
              "      <th>id</th>\n",
              "      <th>price</th>\n",
              "      <th>square</th>\n",
              "      <th>rooms</th>\n",
              "      <th>lat</th>\n",
              "      <th>lon</th>\n",
              "    </tr>\n",
              "  </thead>\n",
              "  <tbody>\n",
              "    <tr>\n",
              "      <th>0</th>\n",
              "      <td>-0.038540</td>\n",
              "      <td>0.028620</td>\n",
              "      <td>0.619011</td>\n",
              "      <td>0.827734</td>\n",
              "      <td>0.023406</td>\n",
              "      <td>-0.443726</td>\n",
              "    </tr>\n",
              "    <tr>\n",
              "      <th>1</th>\n",
              "      <td>0.100351</td>\n",
              "      <td>0.333001</td>\n",
              "      <td>0.425532</td>\n",
              "      <td>0.827734</td>\n",
              "      <td>-0.114831</td>\n",
              "      <td>-0.205557</td>\n",
              "    </tr>\n",
              "    <tr>\n",
              "      <th>2</th>\n",
              "      <td>0.112650</td>\n",
              "      <td>-0.167055</td>\n",
              "      <td>-0.176403</td>\n",
              "      <td>-0.114616</td>\n",
              "      <td>0.182124</td>\n",
              "      <td>-0.259052</td>\n",
              "    </tr>\n",
              "    <tr>\n",
              "      <th>3</th>\n",
              "      <td>0.110402</td>\n",
              "      <td>-0.460566</td>\n",
              "      <td>-0.731044</td>\n",
              "      <td>-1.056966</td>\n",
              "      <td>0.105270</td>\n",
              "      <td>0.480853</td>\n",
              "    </tr>\n",
              "    <tr>\n",
              "      <th>4</th>\n",
              "      <td>-13.196199</td>\n",
              "      <td>0.789574</td>\n",
              "      <td>0.354590</td>\n",
              "      <td>0.827734</td>\n",
              "      <td>-0.107412</td>\n",
              "      <td>-0.188391</td>\n",
              "    </tr>\n",
              "  </tbody>\n",
              "</table>\n",
              "</div>\n",
              "      <button class=\"colab-df-convert\" onclick=\"convertToInteractive('df-86bbd78f-1b9b-48f5-b3c2-beab383cff39')\"\n",
              "              title=\"Convert this dataframe to an interactive table.\"\n",
              "              style=\"display:none;\">\n",
              "        \n",
              "  <svg xmlns=\"http://www.w3.org/2000/svg\" height=\"24px\"viewBox=\"0 0 24 24\"\n",
              "       width=\"24px\">\n",
              "    <path d=\"M0 0h24v24H0V0z\" fill=\"none\"/>\n",
              "    <path d=\"M18.56 5.44l.94 2.06.94-2.06 2.06-.94-2.06-.94-.94-2.06-.94 2.06-2.06.94zm-11 1L8.5 8.5l.94-2.06 2.06-.94-2.06-.94L8.5 2.5l-.94 2.06-2.06.94zm10 10l.94 2.06.94-2.06 2.06-.94-2.06-.94-.94-2.06-.94 2.06-2.06.94z\"/><path d=\"M17.41 7.96l-1.37-1.37c-.4-.4-.92-.59-1.43-.59-.52 0-1.04.2-1.43.59L10.3 9.45l-7.72 7.72c-.78.78-.78 2.05 0 2.83L4 21.41c.39.39.9.59 1.41.59.51 0 1.02-.2 1.41-.59l7.78-7.78 2.81-2.81c.8-.78.8-2.07 0-2.86zM5.41 20L4 18.59l7.72-7.72 1.47 1.35L5.41 20z\"/>\n",
              "  </svg>\n",
              "      </button>\n",
              "      \n",
              "  <style>\n",
              "    .colab-df-container {\n",
              "      display:flex;\n",
              "      flex-wrap:wrap;\n",
              "      gap: 12px;\n",
              "    }\n",
              "\n",
              "    .colab-df-convert {\n",
              "      background-color: #E8F0FE;\n",
              "      border: none;\n",
              "      border-radius: 50%;\n",
              "      cursor: pointer;\n",
              "      display: none;\n",
              "      fill: #1967D2;\n",
              "      height: 32px;\n",
              "      padding: 0 0 0 0;\n",
              "      width: 32px;\n",
              "    }\n",
              "\n",
              "    .colab-df-convert:hover {\n",
              "      background-color: #E2EBFA;\n",
              "      box-shadow: 0px 1px 2px rgba(60, 64, 67, 0.3), 0px 1px 3px 1px rgba(60, 64, 67, 0.15);\n",
              "      fill: #174EA6;\n",
              "    }\n",
              "\n",
              "    [theme=dark] .colab-df-convert {\n",
              "      background-color: #3B4455;\n",
              "      fill: #D2E3FC;\n",
              "    }\n",
              "\n",
              "    [theme=dark] .colab-df-convert:hover {\n",
              "      background-color: #434B5C;\n",
              "      box-shadow: 0px 1px 3px 1px rgba(0, 0, 0, 0.15);\n",
              "      filter: drop-shadow(0px 1px 2px rgba(0, 0, 0, 0.3));\n",
              "      fill: #FFFFFF;\n",
              "    }\n",
              "  </style>\n",
              "\n",
              "      <script>\n",
              "        const buttonEl =\n",
              "          document.querySelector('#df-86bbd78f-1b9b-48f5-b3c2-beab383cff39 button.colab-df-convert');\n",
              "        buttonEl.style.display =\n",
              "          google.colab.kernel.accessAllowed ? 'block' : 'none';\n",
              "\n",
              "        async function convertToInteractive(key) {\n",
              "          const element = document.querySelector('#df-86bbd78f-1b9b-48f5-b3c2-beab383cff39');\n",
              "          const dataTable =\n",
              "            await google.colab.kernel.invokeFunction('convertToInteractive',\n",
              "                                                     [key], {});\n",
              "          if (!dataTable) return;\n",
              "\n",
              "          const docLinkHtml = 'Like what you see? Visit the ' +\n",
              "            '<a target=\"_blank\" href=https://colab.research.google.com/notebooks/data_table.ipynb>data table notebook</a>'\n",
              "            + ' to learn more about interactive tables.';\n",
              "          element.innerHTML = '';\n",
              "          dataTable['output_type'] = 'display_data';\n",
              "          await google.colab.output.renderOutput(dataTable, element);\n",
              "          const docLink = document.createElement('div');\n",
              "          docLink.innerHTML = docLinkHtml;\n",
              "          element.appendChild(docLink);\n",
              "        }\n",
              "      </script>\n",
              "    </div>\n",
              "  </div>\n",
              "  "
            ]
          },
          "metadata": {},
          "execution_count": 20
        }
      ]
    },
    {
      "cell_type": "code",
      "source": [
        "y_mean = df['price'].mean()\n",
        "y_std = df['price'].std()\n",
        "\n",
        "def convert_label_value (y_pred):\n",
        "    return int((y_pred*y_mean)/y_std)"
      ],
      "metadata": {
        "id": "40v1AcyQEhSr"
      },
      "execution_count": 21,
      "outputs": []
    },
    {
      "cell_type": "markdown",
      "source": [
        "4. Selecting features for X"
      ],
      "metadata": {
        "id": "d4jT1K6qlm4X"
      }
    },
    {
      "cell_type": "code",
      "source": [
        "x = df_norm.iloc[: ,2:6]\n",
        "x.head()"
      ],
      "metadata": {
        "colab": {
          "base_uri": "https://localhost:8080/",
          "height": 206
        },
        "id": "0SOo3hjFEjKV",
        "outputId": "e1621f57-112a-4ee0-a670-f0dedaaa27e8"
      },
      "execution_count": 22,
      "outputs": [
        {
          "output_type": "execute_result",
          "data": {
            "text/plain": [
              "     square     rooms       lat       lon\n",
              "0  0.619011  0.827734  0.023406 -0.443726\n",
              "1  0.425532  0.827734 -0.114831 -0.205557\n",
              "2 -0.176403 -0.114616  0.182124 -0.259052\n",
              "3 -0.731044 -1.056966  0.105270  0.480853\n",
              "4  0.354590  0.827734 -0.107412 -0.188391"
            ],
            "text/html": [
              "\n",
              "  <div id=\"df-b048ec9c-979e-4c6d-8c37-1489f04efc66\">\n",
              "    <div class=\"colab-df-container\">\n",
              "      <div>\n",
              "<style scoped>\n",
              "    .dataframe tbody tr th:only-of-type {\n",
              "        vertical-align: middle;\n",
              "    }\n",
              "\n",
              "    .dataframe tbody tr th {\n",
              "        vertical-align: top;\n",
              "    }\n",
              "\n",
              "    .dataframe thead th {\n",
              "        text-align: right;\n",
              "    }\n",
              "</style>\n",
              "<table border=\"1\" class=\"dataframe\">\n",
              "  <thead>\n",
              "    <tr style=\"text-align: right;\">\n",
              "      <th></th>\n",
              "      <th>square</th>\n",
              "      <th>rooms</th>\n",
              "      <th>lat</th>\n",
              "      <th>lon</th>\n",
              "    </tr>\n",
              "  </thead>\n",
              "  <tbody>\n",
              "    <tr>\n",
              "      <th>0</th>\n",
              "      <td>0.619011</td>\n",
              "      <td>0.827734</td>\n",
              "      <td>0.023406</td>\n",
              "      <td>-0.443726</td>\n",
              "    </tr>\n",
              "    <tr>\n",
              "      <th>1</th>\n",
              "      <td>0.425532</td>\n",
              "      <td>0.827734</td>\n",
              "      <td>-0.114831</td>\n",
              "      <td>-0.205557</td>\n",
              "    </tr>\n",
              "    <tr>\n",
              "      <th>2</th>\n",
              "      <td>-0.176403</td>\n",
              "      <td>-0.114616</td>\n",
              "      <td>0.182124</td>\n",
              "      <td>-0.259052</td>\n",
              "    </tr>\n",
              "    <tr>\n",
              "      <th>3</th>\n",
              "      <td>-0.731044</td>\n",
              "      <td>-1.056966</td>\n",
              "      <td>0.105270</td>\n",
              "      <td>0.480853</td>\n",
              "    </tr>\n",
              "    <tr>\n",
              "      <th>4</th>\n",
              "      <td>0.354590</td>\n",
              "      <td>0.827734</td>\n",
              "      <td>-0.107412</td>\n",
              "      <td>-0.188391</td>\n",
              "    </tr>\n",
              "  </tbody>\n",
              "</table>\n",
              "</div>\n",
              "      <button class=\"colab-df-convert\" onclick=\"convertToInteractive('df-b048ec9c-979e-4c6d-8c37-1489f04efc66')\"\n",
              "              title=\"Convert this dataframe to an interactive table.\"\n",
              "              style=\"display:none;\">\n",
              "        \n",
              "  <svg xmlns=\"http://www.w3.org/2000/svg\" height=\"24px\"viewBox=\"0 0 24 24\"\n",
              "       width=\"24px\">\n",
              "    <path d=\"M0 0h24v24H0V0z\" fill=\"none\"/>\n",
              "    <path d=\"M18.56 5.44l.94 2.06.94-2.06 2.06-.94-2.06-.94-.94-2.06-.94 2.06-2.06.94zm-11 1L8.5 8.5l.94-2.06 2.06-.94-2.06-.94L8.5 2.5l-.94 2.06-2.06.94zm10 10l.94 2.06.94-2.06 2.06-.94-2.06-.94-.94-2.06-.94 2.06-2.06.94z\"/><path d=\"M17.41 7.96l-1.37-1.37c-.4-.4-.92-.59-1.43-.59-.52 0-1.04.2-1.43.59L10.3 9.45l-7.72 7.72c-.78.78-.78 2.05 0 2.83L4 21.41c.39.39.9.59 1.41.59.51 0 1.02-.2 1.41-.59l7.78-7.78 2.81-2.81c.8-.78.8-2.07 0-2.86zM5.41 20L4 18.59l7.72-7.72 1.47 1.35L5.41 20z\"/>\n",
              "  </svg>\n",
              "      </button>\n",
              "      \n",
              "  <style>\n",
              "    .colab-df-container {\n",
              "      display:flex;\n",
              "      flex-wrap:wrap;\n",
              "      gap: 12px;\n",
              "    }\n",
              "\n",
              "    .colab-df-convert {\n",
              "      background-color: #E8F0FE;\n",
              "      border: none;\n",
              "      border-radius: 50%;\n",
              "      cursor: pointer;\n",
              "      display: none;\n",
              "      fill: #1967D2;\n",
              "      height: 32px;\n",
              "      padding: 0 0 0 0;\n",
              "      width: 32px;\n",
              "    }\n",
              "\n",
              "    .colab-df-convert:hover {\n",
              "      background-color: #E2EBFA;\n",
              "      box-shadow: 0px 1px 2px rgba(60, 64, 67, 0.3), 0px 1px 3px 1px rgba(60, 64, 67, 0.15);\n",
              "      fill: #174EA6;\n",
              "    }\n",
              "\n",
              "    [theme=dark] .colab-df-convert {\n",
              "      background-color: #3B4455;\n",
              "      fill: #D2E3FC;\n",
              "    }\n",
              "\n",
              "    [theme=dark] .colab-df-convert:hover {\n",
              "      background-color: #434B5C;\n",
              "      box-shadow: 0px 1px 3px 1px rgba(0, 0, 0, 0.15);\n",
              "      filter: drop-shadow(0px 1px 2px rgba(0, 0, 0, 0.3));\n",
              "      fill: #FFFFFF;\n",
              "    }\n",
              "  </style>\n",
              "\n",
              "      <script>\n",
              "        const buttonEl =\n",
              "          document.querySelector('#df-b048ec9c-979e-4c6d-8c37-1489f04efc66 button.colab-df-convert');\n",
              "        buttonEl.style.display =\n",
              "          google.colab.kernel.accessAllowed ? 'block' : 'none';\n",
              "\n",
              "        async function convertToInteractive(key) {\n",
              "          const element = document.querySelector('#df-b048ec9c-979e-4c6d-8c37-1489f04efc66');\n",
              "          const dataTable =\n",
              "            await google.colab.kernel.invokeFunction('convertToInteractive',\n",
              "                                                     [key], {});\n",
              "          if (!dataTable) return;\n",
              "\n",
              "          const docLinkHtml = 'Like what you see? Visit the ' +\n",
              "            '<a target=\"_blank\" href=https://colab.research.google.com/notebooks/data_table.ipynb>data table notebook</a>'\n",
              "            + ' to learn more about interactive tables.';\n",
              "          element.innerHTML = '';\n",
              "          dataTable['output_type'] = 'display_data';\n",
              "          await google.colab.output.renderOutput(dataTable, element);\n",
              "          const docLink = document.createElement('div');\n",
              "          docLink.innerHTML = docLinkHtml;\n",
              "          element.appendChild(docLink);\n",
              "        }\n",
              "      </script>\n",
              "    </div>\n",
              "  </div>\n",
              "  "
            ]
          },
          "metadata": {},
          "execution_count": 22
        }
      ]
    },
    {
      "cell_type": "markdown",
      "source": [
        "5. Selecting label Y"
      ],
      "metadata": {
        "id": "hkpUQCVXly2M"
      }
    },
    {
      "cell_type": "code",
      "source": [
        "y = df_norm.iloc[: ,-5]\n",
        "y.head()"
      ],
      "metadata": {
        "colab": {
          "base_uri": "https://localhost:8080/"
        },
        "id": "LLZwwixkExU4",
        "outputId": "dccd8156-cafa-4cea-dd65-162ec2678753"
      },
      "execution_count": 23,
      "outputs": [
        {
          "output_type": "execute_result",
          "data": {
            "text/plain": [
              "0    0.028620\n",
              "1    0.333001\n",
              "2   -0.167055\n",
              "3   -0.460566\n",
              "4    0.789574\n",
              "Name: price, dtype: float64"
            ]
          },
          "metadata": {},
          "execution_count": 23
        }
      ]
    },
    {
      "cell_type": "code",
      "source": [
        "x_arr = x.values\n",
        "y_arr = y.values\n",
        "\n",
        "print(x_arr)\n",
        "print(y_arr)"
      ],
      "metadata": {
        "colab": {
          "base_uri": "https://localhost:8080/"
        },
        "id": "gv5zovzUEzNm",
        "outputId": "5c9c7262-d6f6-45ec-c086-b325d047463b"
      },
      "execution_count": 24,
      "outputs": [
        {
          "output_type": "stream",
          "name": "stdout",
          "text": [
            "[[ 0.61901106  0.82773396  0.02340634 -0.44372626]\n",
            " [ 0.42553189  0.82773396 -0.11483089 -0.20555729]\n",
            " [-0.1764033  -0.11461595  0.18212377 -0.25905165]\n",
            " ...\n",
            " [ 0.64050874  0.82773396  0.00634383 -0.22232192]\n",
            " [-0.21939867 -0.11461595 -0.01427062 -0.49643837]\n",
            " [ 1.17795088  0.82773396 -0.06650527 -0.09709678]]\n",
            "[ 0.02861955  0.33300141 -0.16705452 ...  0.52867551 -0.34098703\n",
            "  1.52878743]\n"
          ]
        }
      ]
    },
    {
      "cell_type": "markdown",
      "source": [
        "6. Creating Training and Test sets "
      ],
      "metadata": {
        "id": "xlu0VE1ImB0D"
      }
    },
    {
      "cell_type": "code",
      "source": [
        "x_train, x_test, y_train, y_test = train_test_split(x_arr,y_arr, test_size=0.1051, random_state=1)\n",
        "\n",
        "print('train shape', x_train.shape, y_train.shape)\n",
        "print('test shape', x_test.shape, y_test.shape)"
      ],
      "metadata": {
        "colab": {
          "base_uri": "https://localhost:8080/"
        },
        "id": "9MQyVTWgE1rC",
        "outputId": "0ed15175-dfd6-4c1e-d0e5-0a3232ed75b0"
      },
      "execution_count": 25,
      "outputs": [
        {
          "output_type": "stream",
          "name": "stdout",
          "text": [
            "train shape (1957, 4) (1957,)\n",
            "test shape (230, 4) (230,)\n"
          ]
        }
      ]
    },
    {
      "cell_type": "markdown",
      "source": [
        "7. Creating the Model for Price Prediction \n"
      ],
      "metadata": {
        "id": "jfq0Ybf8mJ_z"
      }
    },
    {
      "cell_type": "code",
      "source": [
        "def get_model ():\n",
        "    model = Sequential([\n",
        "        Dense(10, input_shape=(4,), activation = 'relu'),\n",
        "        Dense(20, activation = 'relu'),\n",
        "        Dense(5, activation = 'relu'),\n",
        "        Dense(1)\n",
        "    ])\n",
        "    \n",
        "    model.compile(\n",
        "        loss = 'mse',\n",
        "        optimizer = 'adam'\n",
        "    )\n",
        "    \n",
        "    return model\n",
        "\n",
        "model = get_model()\n",
        "model.summary()"
      ],
      "metadata": {
        "colab": {
          "base_uri": "https://localhost:8080/"
        },
        "id": "3PWAKHwhE31w",
        "outputId": "cf09423a-7eef-4dad-bda1-b16da4d4e962"
      },
      "execution_count": 26,
      "outputs": [
        {
          "output_type": "stream",
          "name": "stdout",
          "text": [
            "Model: \"sequential_2\"\n",
            "_________________________________________________________________\n",
            " Layer (type)                Output Shape              Param #   \n",
            "=================================================================\n",
            " dense_8 (Dense)             (None, 10)                50        \n",
            "                                                                 \n",
            " dense_9 (Dense)             (None, 20)                220       \n",
            "                                                                 \n",
            " dense_10 (Dense)            (None, 5)                 105       \n",
            "                                                                 \n",
            " dense_11 (Dense)            (None, 1)                 6         \n",
            "                                                                 \n",
            "=================================================================\n",
            "Total params: 381\n",
            "Trainable params: 381\n",
            "Non-trainable params: 0\n",
            "_________________________________________________________________\n"
          ]
        }
      ]
    },
    {
      "cell_type": "markdown",
      "source": [
        "8. Training the Model"
      ],
      "metadata": {
        "id": "hUrQM21cmQuA"
      }
    },
    {
      "cell_type": "code",
      "source": [
        "es_cb = EarlyStopping(monitor='val_loss', patience=6)\n",
        "\n",
        "model = get_model()\n",
        "\n",
        "preds_on_untrained = model.predict(x_test)\n",
        "\n",
        "history = model.fit(\n",
        "    x_train, y_train,\n",
        "    validation_data = (x_test, y_test),\n",
        "    epochs = 1000,\n",
        "    callbacks = [es_cb]\n",
        ")"
      ],
      "metadata": {
        "colab": {
          "base_uri": "https://localhost:8080/"
        },
        "id": "KGYWfVfOE6by",
        "outputId": "580b8248-9a13-437a-dc5e-55f6f33427ed"
      },
      "execution_count": 30,
      "outputs": [
        {
          "output_type": "stream",
          "name": "stdout",
          "text": [
            "8/8 [==============================] - 0s 2ms/step\n",
            "Epoch 1/1000\n",
            "62/62 [==============================] - 1s 5ms/step - loss: 0.8713 - val_loss: 0.9892\n",
            "Epoch 2/1000\n",
            "62/62 [==============================] - 0s 3ms/step - loss: 0.6642 - val_loss: 0.7933\n",
            "Epoch 3/1000\n",
            "62/62 [==============================] - 0s 3ms/step - loss: 0.4830 - val_loss: 0.6700\n",
            "Epoch 4/1000\n",
            "62/62 [==============================] - 0s 3ms/step - loss: 0.3542 - val_loss: 0.5921\n",
            "Epoch 5/1000\n",
            "62/62 [==============================] - 0s 2ms/step - loss: 0.2791 - val_loss: 0.5733\n",
            "Epoch 6/1000\n",
            "62/62 [==============================] - 0s 3ms/step - loss: 0.2556 - val_loss: 0.5670\n",
            "Epoch 7/1000\n",
            "62/62 [==============================] - 0s 2ms/step - loss: 0.2435 - val_loss: 0.5657\n",
            "Epoch 8/1000\n",
            "62/62 [==============================] - 0s 3ms/step - loss: 0.2427 - val_loss: 0.5581\n",
            "Epoch 9/1000\n",
            "62/62 [==============================] - 0s 3ms/step - loss: 0.2413 - val_loss: 0.5558\n",
            "Epoch 10/1000\n",
            "62/62 [==============================] - 0s 2ms/step - loss: 0.2303 - val_loss: 0.5517\n",
            "Epoch 11/1000\n",
            "62/62 [==============================] - 0s 3ms/step - loss: 0.2261 - val_loss: 0.5400\n",
            "Epoch 12/1000\n",
            "62/62 [==============================] - 0s 3ms/step - loss: 0.2226 - val_loss: 0.5384\n",
            "Epoch 13/1000\n",
            "62/62 [==============================] - 0s 2ms/step - loss: 0.2190 - val_loss: 0.5163\n",
            "Epoch 14/1000\n",
            "62/62 [==============================] - 0s 2ms/step - loss: 0.2151 - val_loss: 0.5081\n",
            "Epoch 15/1000\n",
            "62/62 [==============================] - 0s 2ms/step - loss: 0.2106 - val_loss: 0.5044\n",
            "Epoch 16/1000\n",
            "62/62 [==============================] - 0s 3ms/step - loss: 0.2122 - val_loss: 0.4983\n",
            "Epoch 17/1000\n",
            "62/62 [==============================] - 0s 3ms/step - loss: 0.2100 - val_loss: 0.4954\n",
            "Epoch 18/1000\n",
            "62/62 [==============================] - 0s 3ms/step - loss: 0.2062 - val_loss: 0.5016\n",
            "Epoch 19/1000\n",
            "62/62 [==============================] - 0s 3ms/step - loss: 0.2137 - val_loss: 0.4976\n",
            "Epoch 20/1000\n",
            "62/62 [==============================] - 0s 4ms/step - loss: 0.2048 - val_loss: 0.4924\n",
            "Epoch 21/1000\n",
            "62/62 [==============================] - 0s 4ms/step - loss: 0.2047 - val_loss: 0.4902\n",
            "Epoch 22/1000\n",
            "62/62 [==============================] - 0s 4ms/step - loss: 0.2081 - val_loss: 0.4889\n",
            "Epoch 23/1000\n",
            "62/62 [==============================] - 0s 4ms/step - loss: 0.2046 - val_loss: 0.4870\n",
            "Epoch 24/1000\n",
            "62/62 [==============================] - 0s 3ms/step - loss: 0.2034 - val_loss: 0.4804\n",
            "Epoch 25/1000\n",
            "62/62 [==============================] - 0s 4ms/step - loss: 0.2029 - val_loss: 0.4796\n",
            "Epoch 26/1000\n",
            "62/62 [==============================] - 0s 4ms/step - loss: 0.2057 - val_loss: 0.4844\n",
            "Epoch 27/1000\n",
            "62/62 [==============================] - 0s 4ms/step - loss: 0.1988 - val_loss: 0.4863\n",
            "Epoch 28/1000\n",
            "62/62 [==============================] - 0s 3ms/step - loss: 0.2043 - val_loss: 0.4806\n",
            "Epoch 29/1000\n",
            "62/62 [==============================] - 0s 4ms/step - loss: 0.2002 - val_loss: 0.4841\n",
            "Epoch 30/1000\n",
            "62/62 [==============================] - 0s 3ms/step - loss: 0.2016 - val_loss: 0.4735\n",
            "Epoch 31/1000\n",
            "62/62 [==============================] - 0s 4ms/step - loss: 0.1996 - val_loss: 0.4730\n",
            "Epoch 32/1000\n",
            "62/62 [==============================] - 0s 2ms/step - loss: 0.1988 - val_loss: 0.4657\n",
            "Epoch 33/1000\n",
            "62/62 [==============================] - 0s 3ms/step - loss: 0.1988 - val_loss: 0.4662\n",
            "Epoch 34/1000\n",
            "62/62 [==============================] - 0s 2ms/step - loss: 0.2014 - val_loss: 0.4837\n",
            "Epoch 35/1000\n",
            "62/62 [==============================] - 0s 2ms/step - loss: 0.2006 - val_loss: 0.4783\n",
            "Epoch 36/1000\n",
            "62/62 [==============================] - 0s 3ms/step - loss: 0.2013 - val_loss: 0.4621\n",
            "Epoch 37/1000\n",
            "62/62 [==============================] - 0s 3ms/step - loss: 0.1949 - val_loss: 0.4600\n",
            "Epoch 38/1000\n",
            "62/62 [==============================] - 0s 2ms/step - loss: 0.1950 - val_loss: 0.4551\n",
            "Epoch 39/1000\n",
            "62/62 [==============================] - 0s 2ms/step - loss: 0.1961 - val_loss: 0.4629\n",
            "Epoch 40/1000\n",
            "62/62 [==============================] - 0s 2ms/step - loss: 0.1962 - val_loss: 0.4664\n",
            "Epoch 41/1000\n",
            "62/62 [==============================] - 0s 3ms/step - loss: 0.1997 - val_loss: 0.4558\n",
            "Epoch 42/1000\n",
            "62/62 [==============================] - 0s 2ms/step - loss: 0.1959 - val_loss: 0.4582\n",
            "Epoch 43/1000\n",
            "62/62 [==============================] - 0s 3ms/step - loss: 0.1981 - val_loss: 0.4517\n",
            "Epoch 44/1000\n",
            "62/62 [==============================] - 0s 3ms/step - loss: 0.2032 - val_loss: 0.4566\n",
            "Epoch 45/1000\n",
            "62/62 [==============================] - 0s 2ms/step - loss: 0.1955 - val_loss: 0.4485\n",
            "Epoch 46/1000\n",
            "62/62 [==============================] - 0s 2ms/step - loss: 0.1917 - val_loss: 0.4482\n",
            "Epoch 47/1000\n",
            "62/62 [==============================] - 0s 2ms/step - loss: 0.1964 - val_loss: 0.4450\n",
            "Epoch 48/1000\n",
            "62/62 [==============================] - 0s 3ms/step - loss: 0.1928 - val_loss: 0.4406\n",
            "Epoch 49/1000\n",
            "62/62 [==============================] - 0s 3ms/step - loss: 0.1903 - val_loss: 0.4474\n",
            "Epoch 50/1000\n",
            "62/62 [==============================] - 0s 3ms/step - loss: 0.1949 - val_loss: 0.4384\n",
            "Epoch 51/1000\n",
            "62/62 [==============================] - 0s 3ms/step - loss: 0.1946 - val_loss: 0.4433\n",
            "Epoch 52/1000\n",
            "62/62 [==============================] - 0s 3ms/step - loss: 0.1915 - val_loss: 0.4348\n",
            "Epoch 53/1000\n",
            "62/62 [==============================] - 0s 2ms/step - loss: 0.1930 - val_loss: 0.4376\n",
            "Epoch 54/1000\n",
            "62/62 [==============================] - 0s 3ms/step - loss: 0.1933 - val_loss: 0.4396\n",
            "Epoch 55/1000\n",
            "62/62 [==============================] - 0s 2ms/step - loss: 0.1925 - val_loss: 0.4352\n",
            "Epoch 56/1000\n",
            "62/62 [==============================] - 0s 3ms/step - loss: 0.1885 - val_loss: 0.4320\n",
            "Epoch 57/1000\n",
            "62/62 [==============================] - 0s 2ms/step - loss: 0.1865 - val_loss: 0.4339\n",
            "Epoch 58/1000\n",
            "62/62 [==============================] - 0s 2ms/step - loss: 0.1921 - val_loss: 0.4226\n",
            "Epoch 59/1000\n",
            "62/62 [==============================] - 0s 3ms/step - loss: 0.1875 - val_loss: 0.4271\n",
            "Epoch 60/1000\n",
            "62/62 [==============================] - 0s 3ms/step - loss: 0.1927 - val_loss: 0.4302\n",
            "Epoch 61/1000\n",
            "62/62 [==============================] - 0s 3ms/step - loss: 0.1883 - val_loss: 0.4175\n",
            "Epoch 62/1000\n",
            "62/62 [==============================] - 0s 3ms/step - loss: 0.1885 - val_loss: 0.4290\n",
            "Epoch 63/1000\n",
            "62/62 [==============================] - 0s 2ms/step - loss: 0.1876 - val_loss: 0.4151\n",
            "Epoch 64/1000\n",
            "62/62 [==============================] - 0s 2ms/step - loss: 0.1864 - val_loss: 0.4120\n",
            "Epoch 65/1000\n",
            "62/62 [==============================] - 0s 2ms/step - loss: 0.1848 - val_loss: 0.4115\n",
            "Epoch 66/1000\n",
            "62/62 [==============================] - 0s 2ms/step - loss: 0.1857 - val_loss: 0.4130\n",
            "Epoch 67/1000\n",
            "62/62 [==============================] - 0s 3ms/step - loss: 0.1839 - val_loss: 0.4162\n",
            "Epoch 68/1000\n",
            "62/62 [==============================] - 0s 2ms/step - loss: 0.1855 - val_loss: 0.4144\n",
            "Epoch 69/1000\n",
            "62/62 [==============================] - 0s 2ms/step - loss: 0.1842 - val_loss: 0.4057\n",
            "Epoch 70/1000\n",
            "62/62 [==============================] - 0s 3ms/step - loss: 0.1834 - val_loss: 0.4152\n",
            "Epoch 71/1000\n",
            "62/62 [==============================] - 0s 2ms/step - loss: 0.1805 - val_loss: 0.4089\n",
            "Epoch 72/1000\n",
            "62/62 [==============================] - 0s 2ms/step - loss: 0.1916 - val_loss: 0.4060\n",
            "Epoch 73/1000\n",
            "62/62 [==============================] - 0s 2ms/step - loss: 0.1837 - val_loss: 0.4000\n",
            "Epoch 74/1000\n",
            "62/62 [==============================] - 0s 2ms/step - loss: 0.1806 - val_loss: 0.3969\n",
            "Epoch 75/1000\n",
            "62/62 [==============================] - 0s 2ms/step - loss: 0.1801 - val_loss: 0.3977\n",
            "Epoch 76/1000\n",
            "62/62 [==============================] - 0s 3ms/step - loss: 0.1802 - val_loss: 0.4124\n",
            "Epoch 77/1000\n",
            "62/62 [==============================] - 0s 3ms/step - loss: 0.1870 - val_loss: 0.4077\n",
            "Epoch 78/1000\n",
            "62/62 [==============================] - 0s 3ms/step - loss: 0.1871 - val_loss: 0.4001\n",
            "Epoch 79/1000\n",
            "62/62 [==============================] - 0s 3ms/step - loss: 0.1863 - val_loss: 0.4107\n",
            "Epoch 80/1000\n",
            "62/62 [==============================] - 0s 3ms/step - loss: 0.1852 - val_loss: 0.3915\n",
            "Epoch 81/1000\n",
            "62/62 [==============================] - 0s 3ms/step - loss: 0.1787 - val_loss: 0.3933\n",
            "Epoch 82/1000\n",
            "62/62 [==============================] - 0s 2ms/step - loss: 0.1831 - val_loss: 0.3907\n",
            "Epoch 83/1000\n",
            "62/62 [==============================] - 0s 3ms/step - loss: 0.1825 - val_loss: 0.3916\n",
            "Epoch 84/1000\n",
            "62/62 [==============================] - 0s 3ms/step - loss: 0.1796 - val_loss: 0.3909\n",
            "Epoch 85/1000\n",
            "62/62 [==============================] - 0s 3ms/step - loss: 0.1834 - val_loss: 0.3839\n",
            "Epoch 86/1000\n",
            "62/62 [==============================] - 0s 3ms/step - loss: 0.1814 - val_loss: 0.3887\n",
            "Epoch 87/1000\n",
            "62/62 [==============================] - 0s 3ms/step - loss: 0.1827 - val_loss: 0.3993\n",
            "Epoch 88/1000\n",
            "62/62 [==============================] - 0s 2ms/step - loss: 0.1779 - val_loss: 0.3886\n",
            "Epoch 89/1000\n",
            "62/62 [==============================] - 0s 3ms/step - loss: 0.1754 - val_loss: 0.3860\n",
            "Epoch 90/1000\n",
            "62/62 [==============================] - 0s 3ms/step - loss: 0.1752 - val_loss: 0.3890\n",
            "Epoch 91/1000\n",
            "62/62 [==============================] - 0s 3ms/step - loss: 0.1766 - val_loss: 0.3870\n"
          ]
        }
      ]
    },
    {
      "cell_type": "markdown",
      "source": [
        "9. Plot of my model"
      ],
      "metadata": {
        "id": "97ScThfpmW6h"
      }
    },
    {
      "cell_type": "code",
      "source": [
        "def plot_loss(history):\n",
        "    h = history.history\n",
        "    x_lim = len(h['loss'])\n",
        "    plt.figure(figsize=(8, 8))\n",
        "    plt.plot(range(x_lim), h['loss'], label = 'Training Loss')\n",
        "    plt.plot(range(x_lim), h['val_loss'], label = 'Validation Loss')\n",
        "    plt.xlabel('Epochs')\n",
        "    plt.ylabel('Loss')\n",
        "    plt.legend()\n",
        "    plt.show()\n",
        "    return\n",
        "\n",
        "plot_loss(history)"
      ],
      "metadata": {
        "colab": {
          "base_uri": "https://localhost:8080/",
          "height": 497
        },
        "id": "qbm-q1UFE97y",
        "outputId": "63e28809-201a-432c-f27f-b6feeb2ef05a"
      },
      "execution_count": 31,
      "outputs": [
        {
          "output_type": "display_data",
          "data": {
            "text/plain": [
              "<Figure size 576x576 with 1 Axes>"
            ],
            "image/png": "[encoded data removed]"
          },
          "metadata": {
            "needs_background": "light"
          }
        }
      ]
    },
    {
      "cell_type": "markdown",
      "source": [
        "10. Prediction"
      ],
      "metadata": {
        "id": "jgs8Nf0hmfZd"
      }
    },
    {
      "cell_type": "code",
      "source": [
        "preds_on_trained = model.predict(x_test)\n",
        "\n",
        "\n",
        "def compare_predictions(preds1, preds2, y_test):\n",
        "    plt.figure(figsize=(8, 8))\n",
        "    plt.plot(preds1, y_test, 'ro', label='Untrained Model')\n",
        "    plt.plot(preds2, y_test, 'go', label='Trained Model')\n",
        "    plt.xlabel('Preds')\n",
        "    plt.ylabel('Labels')\n",
        "    \n",
        "    y_min = min(min(y_test), min(preds1), min(preds2))\n",
        "    y_max = max(max(y_test), max(preds1), max(preds2))\n",
        "    \n",
        "    plt.xlim([y_min, y_max])\n",
        "    plt.ylim([y_min, y_max])\n",
        "    plt.plot([y_min, y_max], [y_min, y_max], 'b--')\n",
        "    plt.legend()\n",
        "    plt.show()\n",
        "    return\n",
        "\n",
        "compare_predictions(preds_on_untrained, preds_on_trained, y_test)"
      ],
      "metadata": {
        "colab": {
          "base_uri": "https://localhost:8080/",
          "height": 515
        },
        "id": "3hAAEUiUFAO_",
        "outputId": "73a05f11-c3c7-41b7-9c4d-1c4699f3b44a"
      },
      "execution_count": 32,
      "outputs": [
        {
          "output_type": "stream",
          "name": "stdout",
          "text": [
            "8/8 [==============================] - 0s 2ms/step\n"
          ]
        },
        {
          "output_type": "display_data",
          "data": {
            "text/plain": [
              "<Figure size 576x576 with 1 Axes>"
            ],
            "image/png": "[encoded data removed]"
          },
          "metadata": {
            "needs_background": "light"
          }
        }
      ]
    },
    {
      "cell_type": "code",
      "execution_count": 33,
      "metadata": {
        "id": "d2Va8Cy-GxPz",
        "outputId": "f7fbc2cb-a4e1-434e-a254-3f20994b9d0e",
        "colab": {
          "base_uri": "https://localhost:8080/"
        }
      },
      "outputs": [
        {
          "output_type": "stream",
          "name": "stdout",
          "text": [
            "40000020\n"
          ]
        }
      ],
      "source": [
        "y_mean = df['price'].mean()\n",
        "y_std = df['price'].std()\n",
        "\n",
        "def convert_label_actual(pred):\n",
        "    return int(pred * y_std + y_mean)\n",
        "\n",
        "print(convert_label_actual(0.028620))"
      ]
    }
  ]
}